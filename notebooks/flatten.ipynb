{
 "cells": [
  {
   "cell_type": "code",
   "execution_count": 12,
   "metadata": {},
   "outputs": [
    {
     "name": "stdout",
     "output_type": "stream",
     "text": [
      "8\n",
      "2\n",
      "4\n",
      "6\n",
      "John\n",
      "Jim\n",
      "Mary\n",
      "1\n",
      "3\n",
      "5\n",
      "7\n",
      "9\n"
     ]
    },
    {
     "data": {
      "text/plain": [
       "<apache_beam.runners.portability.fn_api_runner.fn_runner.RunnerResult at 0x12d696790>"
      ]
     },
     "execution_count": 12,
     "metadata": {},
     "output_type": "execute_result"
    }
   ],
   "source": [
    "import apache_beam as beam\n",
    "\n",
    "p = beam.Pipeline()\n",
    "\n",
    "even = {2,4,6,8}\n",
    "odd = {1,3,5,7,9}\n",
    "name = ('John', 'Jim', 'Mary')\n",
    "\n",
    "even_pc = p | 'Create Pcollection from Even numbers' >> beam.Create(even)\n",
    "odd_pc = p | 'Create Pcollection from Odd Number' >> beam.Create(odd)\n",
    "name_pc = p | 'Create Pcollection from Name' >> beam.Create(name)\n",
    "\n",
    "result = ((even_pc, odd_pc, name_pc) | beam.Flatten()) | beam.Map(print)\n",
    "\n",
    "p.run()"
   ]
  }
 ],
 "metadata": {
  "kernelspec": {
   "display_name": "Python 3",
   "language": "python",
   "name": "python3"
  },
  "language_info": {
   "codemirror_mode": {
    "name": "ipython",
    "version": 3
   },
   "file_extension": ".py",
   "mimetype": "text/x-python",
   "name": "python",
   "nbconvert_exporter": "python",
   "pygments_lexer": "ipython3",
   "version": "3.9.6"
  },
  "orig_nbformat": 4
 },
 "nbformat": 4,
 "nbformat_minor": 2
}
