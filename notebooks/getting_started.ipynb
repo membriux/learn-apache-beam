{
 "cells": [
  {
   "cell_type": "code",
   "execution_count": 12,
   "metadata": {},
   "outputs": [],
   "source": [
    "# !pip3 install apache_beam"
   ]
  },
  {
   "cell_type": "code",
   "execution_count": 13,
   "metadata": {},
   "outputs": [],
   "source": [
    "import apache_beam as beam"
   ]
  },
  {
   "cell_type": "code",
   "execution_count": 31,
   "metadata": {},
   "outputs": [
    {
     "name": "stderr",
     "output_type": "stream",
     "text": [
      "WARNING:apache_beam.io.filebasedsink:Deleting 1 existing files in target path matching: -*-%(num_shards)01d\n"
     ]
    },
    {
     "data": {
      "text/plain": [
       "<apache_beam.runners.portability.fn_api_runner.fn_runner.RunnerResult at 0x133194250>"
      ]
     },
     "execution_count": 31,
     "metadata": {},
     "output_type": "execute_result"
    }
   ],
   "source": [
    "p1 = beam.Pipeline()\n",
    "movie_gt_4 = (\n",
    "    p1\n",
    "    | beam.io.ReadFromText('data/movies.txt', skip_header_lines=True)\n",
    "    | beam.Map(lambda record: record.split(','))\n",
    "    | beam.Filter(lambda record: float(record[2]) >= 4)\n",
    "    | beam.io.WriteToText(\n",
    "        file_path_prefix='results/movies_result.txt', \n",
    "        file_name_suffix= 'ratings', \n",
    "        shard_name_template='-S-N',\n",
    "        header='movieId,name,rating')\n",
    ")\n",
    "p1.run()"
   ]
  },
  {
   "cell_type": "code",
   "execution_count": 32,
   "metadata": {},
   "outputs": [
    {
     "name": "stdout",
     "output_type": "stream",
     "text": [
      "movies_result.txt-0-1ratings     movies_result.txt-00000-of-00001\n"
     ]
    }
   ],
   "source": [
    "!ls results"
   ]
  },
  {
   "cell_type": "code",
   "execution_count": 33,
   "metadata": {},
   "outputs": [
    {
     "name": "stdout",
     "output_type": "stream",
     "text": [
      "movieId,name,rating\n",
      "['2', 'Avengers', '4']\n",
      "['3', 'Spiderman', '4.5']\n",
      "['4', 'Green Miles', '4']\n"
     ]
    }
   ],
   "source": [
    "!cat results/movies_result.txt-0-1ratings"
   ]
  }
 ],
 "metadata": {
  "kernelspec": {
   "display_name": "Python 3",
   "language": "python",
   "name": "python3"
  },
  "language_info": {
   "codemirror_mode": {
    "name": "ipython",
    "version": 3
   },
   "file_extension": ".py",
   "mimetype": "text/x-python",
   "name": "python",
   "nbconvert_exporter": "python",
   "pygments_lexer": "ipython3",
   "version": "3.9.6"
  },
  "orig_nbformat": 4
 },
 "nbformat": 4,
 "nbformat_minor": 2
}
