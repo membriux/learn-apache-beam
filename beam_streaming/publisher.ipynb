{
 "cells": [
  {
   "cell_type": "code",
   "execution_count": null,
   "metadata": {},
   "outputs": [],
   "source": [
    "%pip install google-cloud-pubsub"
   ]
  },
  {
   "cell_type": "code",
   "execution_count": 2,
   "metadata": {},
   "outputs": [
    {
     "data": {
      "text/plain": [
       "'\\n\\nData downloaded from --> https://grouplens.org/datasets/movielens/\\nDataset -> https://files.grouplens.org/datasets/movielens/ml-latest.zip\\n\\nArchitecture\\nmovies.csv -> Publisher\\n\\nmovies.subscription -> subscribed to -> Publisher\\n\\nmovies.subscription -> send movie data ->\\n    Processor (Apache Beam) -> filter out by genre (i.e. comedy)\\n        -> comedy_movies\\n\\ncomedy.movies.subscription -> Subscriber -> Console\\n\\n'"
      ]
     },
     "execution_count": 2,
     "metadata": {},
     "output_type": "execute_result"
    }
   ],
   "source": [
    "\"\"\"\n",
    "\n",
    "Data downloaded from --> https://grouplens.org/datasets/movielens/\n",
    "Dataset -> https://files.grouplens.org/datasets/movielens/ml-latest.zip\n",
    "\n",
    "Architecture\n",
    "movies.csv -> Publisher\n",
    "\n",
    "movies.subscription -> subscribed to -> Publisher\n",
    "\n",
    "movies.subscription -> send movie data ->\n",
    "    Processor (Apache Beam) -> filter out by genre (i.e. comedy)\n",
    "        -> comedy_movies\n",
    "\n",
    "comedy.movies.subscription -> Subscriber -> Console\n",
    "\n",
    "\"\"\""
   ]
  },
  {
   "cell_type": "code",
   "execution_count": 1,
   "metadata": {},
   "outputs": [
    {
     "name": "stdout",
     "output_type": "stream",
     "text": [
      "Publishing in Topic...\n",
      "Publishing in Topic...\n",
      "Publishing in Topic...\n",
      "Publishing in Topic...\n",
      "Publishing in Topic...\n",
      "Publishing in Topic...\n",
      "Publishing in Topic...\n",
      "Publishing in Topic...\n",
      "Publishing in Topic...\n",
      "Publishing in Topic...\n"
     ]
    },
    {
     "ename": "KeyboardInterrupt",
     "evalue": "",
     "output_type": "error",
     "traceback": [
      "\u001b[0;31m---------------------------------------------------------------------------\u001b[0m",
      "\u001b[0;31mKeyboardInterrupt\u001b[0m                         Traceback (most recent call last)",
      "Cell \u001b[0;32mIn[1], line 17\u001b[0m\n\u001b[1;32m     15\u001b[0m \u001b[39mprint\u001b[39m(\u001b[39m'\u001b[39m\u001b[39mPublishing in Topic...\u001b[39m\u001b[39m'\u001b[39m)\n\u001b[1;32m     16\u001b[0m publisher\u001b[39m.\u001b[39mpublish(pubsub_topic, row)\n\u001b[0;32m---> 17\u001b[0m time\u001b[39m.\u001b[39;49msleep(\u001b[39m5\u001b[39;49m)\n",
      "\u001b[0;31mKeyboardInterrupt\u001b[0m: "
     ]
    }
   ],
   "source": [
    "import csv\n",
    "import time\n",
    "import os\n",
    "from google.cloud import pubsub_v1\n",
    "\n",
    "project = 'My First pubsub'\n",
    "pubsub_topic = 'projects/vida-nueva-live/topics/big-data'\n",
    "service_account_key = '../vida-nueva-live-f2ebe53bc837.json'\n",
    "os.environ['GOOGLE_APPLICATION_CREDENTIALS'] = service_account_key\n",
    "\n",
    "input_file = 'data/movies.csv'\n",
    "publisher = pubsub_v1.PublisherClient()\n",
    "with open(input_file, 'rb') as file:\n",
    "    for row in file:\n",
    "        print('Publishing in Topic...')\n",
    "        publisher.publish(pubsub_topic, row)\n",
    "        time.sleep(5)\n"
   ]
  }
 ],
 "metadata": {
  "kernelspec": {
   "display_name": "Python 3",
   "language": "python",
   "name": "python3"
  },
  "language_info": {
   "codemirror_mode": {
    "name": "ipython",
    "version": 3
   },
   "file_extension": ".py",
   "mimetype": "text/x-python",
   "name": "python",
   "nbconvert_exporter": "python",
   "pygments_lexer": "ipython3",
   "version": "3.9.6"
  },
  "orig_nbformat": 4
 },
 "nbformat": 4,
 "nbformat_minor": 2
}
