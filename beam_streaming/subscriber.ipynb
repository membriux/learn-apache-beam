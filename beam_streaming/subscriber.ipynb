{
 "cells": [
  {
   "cell_type": "code",
   "execution_count": 1,
   "metadata": {},
   "outputs": [
    {
     "name": "stdout",
     "output_type": "stream",
     "text": [
      "Recieved message: Message {\n",
      "  data: b'1Toy Story (1995)Adventure|Animation|Children|Come...'\n",
      "  ordering_key: ''\n",
      "  attributes: {}\n",
      "}\n",
      "Recieved message: Message {\n",
      "  data: b'3Grumpier Old Men (1995)Comedy|Romance\\r\\n'\n",
      "  ordering_key: ''\n",
      "  attributes: {}\n",
      "}\n",
      "Recieved message: Message {\n",
      "  data: b'4Waiting to Exhale (1995)Comedy|Drama|Romance\\r\\n'\n",
      "  ordering_key: ''\n",
      "  attributes: {}\n",
      "}\n",
      "Recieved message: Message {\n",
      "  data: b'5Father of the Bride Part II (1995)Comedy\\r\\n'\n",
      "  ordering_key: ''\n",
      "  attributes: {}\n",
      "}\n",
      "Recieved message: Message {\n",
      "  data: b'7Sabrina (1995)Comedy|Romance\\r\\n'\n",
      "  ordering_key: ''\n",
      "  attributes: {}\n",
      "}\n"
     ]
    },
    {
     "ename": "KeyboardInterrupt",
     "evalue": "",
     "output_type": "error",
     "traceback": [
      "\u001b[0;31m---------------------------------------------------------------------------\u001b[0m",
      "\u001b[0;31mKeyboardInterrupt\u001b[0m                         Traceback (most recent call last)",
      "Cell \u001b[0;32mIn[1], line 17\u001b[0m\n\u001b[1;32m     14\u001b[0m subscriber\u001b[39m.\u001b[39msubscribe(subscription_path, callback\u001b[39m=\u001b[39mcallback)\n\u001b[1;32m     16\u001b[0m \u001b[39mwhile\u001b[39;00m \u001b[39mTrue\u001b[39;00m:\n\u001b[0;32m---> 17\u001b[0m     time\u001b[39m.\u001b[39;49msleep(\u001b[39m5\u001b[39;49m)\n",
      "\u001b[0;31mKeyboardInterrupt\u001b[0m: "
     ]
    }
   ],
   "source": [
    "from google.cloud import pubsub_v1\n",
    "import time\n",
    "import os\n",
    "service_account = '../vida-nueva-live-f2ebe53bc837.json'\n",
    "os.environ['GOOGLE_APPLICATION_CREDENTIALS'] = service_account\n",
    "\n",
    "subscription_path = 'projects/vida-nueva-live/subscriptions/comedy_movies-sub'\n",
    "subscriber = pubsub_v1.SubscriberClient()\n",
    "\n",
    "def callback(message):\n",
    "    print((f'Recieved message: {message}'))\n",
    "    message.ack()\n",
    "    \n",
    "subscriber.subscribe(subscription_path, callback=callback)\n",
    "\n",
    "while True:\n",
    "    time.sleep(5)"
   ]
  }
 ],
 "metadata": {
  "kernelspec": {
   "display_name": "Python 3",
   "language": "python",
   "name": "python3"
  },
  "language_info": {
   "codemirror_mode": {
    "name": "ipython",
    "version": 3
   },
   "file_extension": ".py",
   "mimetype": "text/x-python",
   "name": "python",
   "nbconvert_exporter": "python",
   "pygments_lexer": "ipython3",
   "version": "3.9.6"
  },
  "orig_nbformat": 4
 },
 "nbformat": 4,
 "nbformat_minor": 2
}
