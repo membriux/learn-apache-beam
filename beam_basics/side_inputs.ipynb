{
 "cells": [
  {
   "cell_type": "code",
   "execution_count": 2,
   "metadata": {},
   "outputs": [
    {
     "data": {
      "text/plain": [
       "<apache_beam.runners.portability.fn_api_runner.fn_runner.RunnerResult at 0x13a6c5d00>"
      ]
     },
     "execution_count": 2,
     "metadata": {},
     "output_type": "execute_result"
    }
   ],
   "source": [
    "# Side inputs should not exceed main input as it will run on\n",
    "# local memory in all clusters\n",
    "import apache_beam as beam\n",
    "\n",
    "p1 = beam.Pipeline()\n",
    "\n",
    "customers_exclude = [2,3]\n",
    "customers = [\n",
    "    [1, 'John', 'NY', 22],\n",
    "    [2, 'Mary', 'LA', 25],\n",
    "    [3, 'Maria', 'LA', 27],\n",
    "    [4, 'Shreya', 'NY', 15],\n",
    "]\n",
    "\n",
    "customer_pc = beam.Create(customers)\n",
    "\n",
    "class SplitRow(beam.DoFn):\n",
    "    def process(self, element, side_list):\n",
    "        customer = element\n",
    "        if customer[0] not in customers_exclude:\n",
    "            return [customer]\n",
    "\n",
    "transformed_customers = (\n",
    "    p1 \n",
    "    | customer_pc\n",
    "    | beam.ParDo(SplitRow(), customers_exclude)\n",
    "    | beam.io.WriteToText('results/side_inputs')\n",
    ")\n",
    "\n",
    "p1.run()"
   ]
  },
  {
   "cell_type": "code",
   "execution_count": 3,
   "metadata": {},
   "outputs": [
    {
     "name": "stdout",
     "output_type": "stream",
     "text": [
      "[1, 'John', 'NY', 22]\n",
      "[4, 'Shreya', 'NY', 15]\n"
     ]
    }
   ],
   "source": [
    "!cat results/side_inputs-00000-of-00001"
   ]
  }
 ],
 "metadata": {
  "kernelspec": {
   "display_name": "Python 3",
   "language": "python",
   "name": "python3"
  },
  "language_info": {
   "codemirror_mode": {
    "name": "ipython",
    "version": 3
   },
   "file_extension": ".py",
   "mimetype": "text/x-python",
   "name": "python",
   "nbconvert_exporter": "python",
   "pygments_lexer": "ipython3",
   "version": "3.9.6"
  },
  "orig_nbformat": 4
 },
 "nbformat": 4,
 "nbformat_minor": 2
}
