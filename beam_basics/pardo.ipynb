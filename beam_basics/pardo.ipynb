{
 "cells": [
  {
   "cell_type": "code",
   "execution_count": 12,
   "metadata": {},
   "outputs": [
    {
     "name": "stderr",
     "output_type": "stream",
     "text": [
      "WARNING:apache_beam.io.filebasedsink:Deleting 1 existing files in target path matching: -*-of-%(num_shards)05d\n"
     ]
    },
    {
     "data": {
      "text/plain": [
       "<apache_beam.runners.portability.fn_api_runner.fn_runner.RunnerResult at 0x139978460>"
      ]
     },
     "execution_count": 12,
     "metadata": {},
     "output_type": "execute_result"
    }
   ],
   "source": [
    "# pardo : general purpose transformation that returns 0, 1, or more outputs\n",
    "words=['peter','piper','pickled','picked','peck','pepper']\n",
    "\n",
    "def SplitRow(element):\n",
    "  return element.split(' ')\n",
    "\n",
    "\n",
    "def FindWord(element):\n",
    " if element in words:\n",
    "    return True\n",
    "\n",
    "class SplitRow(beam.DoFn):\n",
    "  def process(self,element):\n",
    "    return element.split(' ')\n",
    "\n",
    "\n",
    "class CalculateFrequency(beam.DoFn):\n",
    "  def process(self,element):\n",
    "    (key,value) = element\n",
    "    return [(key,sum(value))]\n",
    "\n",
    "\n",
    "p1 = beam.Pipeline()\n",
    "\n",
    "freq = (\n",
    "    p1\n",
    "    | 'Read your input file' >> beam.io.ReadFromText('data/peter_piper.txt')\n",
    "    | 'Split Records with Space' >> beam.ParDo(SplitRow())\n",
    "    | 'Filtering records' >> beam.Filter(FindWord)\n",
    "    | 'Create tupled records'>> beam.Map(lambda record: (record,1))\n",
    "    | 'Group By Key'>> beam.GroupByKey()\n",
    "    | 'Calculate Frequency of words' >> beam.ParDo(CalculateFrequency())\n",
    "    | beam.io.WriteToText('results/pardo_peter_piper_result')\n",
    ")\n",
    "p1.run()"
   ]
  },
  {
   "cell_type": "code",
   "execution_count": 13,
   "metadata": {},
   "outputs": [
    {
     "name": "stdout",
     "output_type": "stream",
     "text": [
      "('picked', 2)\n",
      "('peck', 4)\n",
      "('pickled', 4)\n"
     ]
    }
   ],
   "source": [
    "!cat results/pardo_peter_piper_result-00000-of-00001"
   ]
  }
 ],
 "metadata": {
  "kernelspec": {
   "display_name": "Python 3",
   "language": "python",
   "name": "python3"
  },
  "language_info": {
   "codemirror_mode": {
    "name": "ipython",
    "version": 3
   },
   "file_extension": ".py",
   "mimetype": "text/x-python",
   "name": "python",
   "nbconvert_exporter": "python",
   "pygments_lexer": "ipython3",
   "version": "3.9.6"
  },
  "orig_nbformat": 4
 },
 "nbformat": 4,
 "nbformat_minor": 2
}
