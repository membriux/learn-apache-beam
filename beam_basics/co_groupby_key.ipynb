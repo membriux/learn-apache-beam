{
 "cells": [
  {
   "cell_type": "code",
   "execution_count": 1,
   "metadata": {},
   "outputs": [
    {
     "name": "stderr",
     "output_type": "stream",
     "text": [
      "WARNING:apache_beam.runners.interactive.interactive_environment:Dependencies required for Interactive Beam PCollection visualization are not available, please use: `pip install apache-beam[interactive]` to install necessary dependencies to enable all data visualization features.\n"
     ]
    },
    {
     "data": {
      "application/javascript": "\n        if (typeof window.interactive_beam_jquery == 'undefined') {\n          var jqueryScript = document.createElement('script');\n          jqueryScript.src = 'https://code.jquery.com/jquery-3.4.1.slim.min.js';\n          jqueryScript.type = 'text/javascript';\n          jqueryScript.onload = function() {\n            var datatableScript = document.createElement('script');\n            datatableScript.src = 'https://cdn.datatables.net/1.10.20/js/jquery.dataTables.min.js';\n            datatableScript.type = 'text/javascript';\n            datatableScript.onload = function() {\n              window.interactive_beam_jquery = jQuery.noConflict(true);\n              window.interactive_beam_jquery(document).ready(function($){\n                \n              });\n            }\n            document.head.appendChild(datatableScript);\n          };\n          document.head.appendChild(jqueryScript);\n        } else {\n          window.interactive_beam_jquery(document).ready(function($){\n            \n          });\n        }"
     },
     "metadata": {},
     "output_type": "display_data"
    },
    {
     "name": "stdout",
     "output_type": "stream",
     "text": [
      "(1, {'movie_name': ['SpiderMan'], 'movie_rating': [3.5, 4.5]})\n",
      "(2, {'movie_name': ['Avenger'], 'movie_rating': [4, 4.5]})\n",
      "(3, {'movie_name': ['Titanic'], 'movie_rating': [3.5]})\n",
      "(4, {'movie_name': ['Green Miles'], 'movie_rating': []})\n"
     ]
    },
    {
     "data": {
      "text/plain": [
       "<apache_beam.runners.portability.fn_api_runner.fn_runner.RunnerResult at 0x12f0f3f40>"
      ]
     },
     "execution_count": 1,
     "metadata": {},
     "output_type": "execute_result"
    }
   ],
   "source": [
    "import apache_beam as beam\n",
    "\n",
    "p = beam.Pipeline() \n",
    "movie_name = [\n",
    "    (1, 'SpiderMan'),\n",
    "    (2, 'Avenger'),\n",
    "    (3, 'Titanic'),\n",
    "    (4, 'Green Miles'),\n",
    "]\n",
    "movies_rating = [\n",
    "    (1, 3.5),\n",
    "    (2, 4),\n",
    "    (1,4.5),\n",
    "    (3,3.5),\n",
    "    (2,4.5)\n",
    "]\n",
    "\n",
    "name = p | 'Create Name Pcollection' >> beam.Create(movie_name)\n",
    "ratings = p | 'Create Rating Pcollection' >> beam.Create(movies_rating)\n",
    "\n",
    "joinedResult= ({'movie_name':name,'movie_rating':ratings} | beam.CoGroupByKey()) | beam.Map(print)\n",
    "\n",
    "p.run()"
   ]
  }
 ],
 "metadata": {
  "kernelspec": {
   "display_name": "Python 3",
   "language": "python",
   "name": "python3"
  },
  "language_info": {
   "codemirror_mode": {
    "name": "ipython",
    "version": 3
   },
   "file_extension": ".py",
   "mimetype": "text/x-python",
   "name": "python",
   "nbconvert_exporter": "python",
   "pygments_lexer": "ipython3",
   "version": "3.9.6"
  },
  "orig_nbformat": 4
 },
 "nbformat": 4,
 "nbformat_minor": 2
}
